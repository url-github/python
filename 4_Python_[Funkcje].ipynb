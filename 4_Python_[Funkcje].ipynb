{
  "nbformat": 4,
  "nbformat_minor": 0,
  "metadata": {
    "colab": {
      "name": "4.Python [Funkcje].ipynb",
      "provenance": [],
      "authorship_tag": "ABX9TyPyWlEjjnEMP0LDihAsZ1aJ"
    },
    "kernelspec": {
      "name": "python3",
      "display_name": "Python 3"
    },
    "language_info": {
      "name": "python"
    }
  },
  "cells": [
    {
      "cell_type": "code",
      "metadata": {
        "id": "h2-KzkgXdI3o"
      },
      "source": [
        "def PrintHello():\n",
        "  print('Hello')\n",
        "  return"
      ],
      "execution_count": null,
      "outputs": []
    },
    {
      "cell_type": "code",
      "metadata": {
        "colab": {
          "base_uri": "https://localhost:8080/"
        },
        "id": "LfME5fe7fcID",
        "outputId": "0ba13d54-e8dd-4d05-c659-10789881d17f"
      },
      "source": [
        "PrintHello()"
      ],
      "execution_count": null,
      "outputs": [
        {
          "output_type": "stream",
          "text": [
            "Hello\n"
          ],
          "name": "stdout"
        }
      ]
    },
    {
      "cell_type": "code",
      "metadata": {
        "colab": {
          "base_uri": "https://localhost:8080/"
        },
        "id": "iqI2aHOIfkhA",
        "outputId": "691c80da-53f8-42d9-b7c5-78974dc1cc8d"
      },
      "source": [
        "from datetime import date\n",
        "from datetime import timedelta\n",
        "\n",
        "day = date.today()\n",
        "\n",
        "if day.weekday() == 5:\n",
        "  workingday = day + timedelta(days=2)\n",
        "elif day.weekday() == 6:\n",
        "  workingday = day + timedelta(days=1)\n",
        "else:\n",
        "  workingday = day\n",
        "\n",
        "print('working day for',day,'is',workingday)"
      ],
      "execution_count": null,
      "outputs": [
        {
          "output_type": "stream",
          "text": [
            "working day for 2021-08-29 is 2021-08-30\n"
          ],
          "name": "stdout"
        }
      ]
    },
    {
      "cell_type": "code",
      "metadata": {
        "colab": {
          "base_uri": "https://localhost:8080/"
        },
        "id": "q1bZX3tZhhro",
        "outputId": "cb134d84-c38c-4c55-f915-2023d0eac78a"
      },
      "source": [
        "def GiveWorkingDay():\n",
        "  from datetime import date\n",
        "  from datetime import timedelta\n",
        "\n",
        "  day = date.today()\n",
        "\n",
        "  if day.weekday() == 5:\n",
        "    workingday = day + timedelta(days=2)\n",
        "  elif day.weekday() == 6:\n",
        "    workingday = day + timedelta(days=1)\n",
        "  else:\n",
        "    workingday = day\n",
        "\n",
        "  print('working day for',day,'is',workingday)\n",
        "\n",
        "  return\n",
        "\n",
        "GiveWorkingDay()"
      ],
      "execution_count": null,
      "outputs": [
        {
          "output_type": "stream",
          "text": [
            "working day for 2021-08-29 is 2021-08-30\n"
          ],
          "name": "stdout"
        }
      ]
    },
    {
      "cell_type": "code",
      "metadata": {
        "colab": {
          "base_uri": "https://localhost:8080/"
        },
        "id": "lCSSv-fpiEqU",
        "outputId": "0b573118-fea1-4b9b-9621-a9c91f7e1fc3"
      },
      "source": [
        "def DaysToEndOfYear():\n",
        "    from datetime import date\n",
        "    date_today = date.today()\n",
        "    current_year = date_today.year\n",
        "    date_end_year = date(current_year, 12, 31)\n",
        "    delta = date_end_year - date_today\n",
        "    print(delta.days)\n",
        " \n",
        "DaysToEndOfYear()"
      ],
      "execution_count": null,
      "outputs": [
        {
          "output_type": "stream",
          "text": [
            "124\n"
          ],
          "name": "stdout"
        }
      ]
    },
    {
      "cell_type": "markdown",
      "metadata": {
        "id": "DSrFSwOunh2a"
      },
      "source": [
        "Parametry funkcji:"
      ]
    },
    {
      "cell_type": "code",
      "metadata": {
        "colab": {
          "base_uri": "https://localhost:8080/"
        },
        "id": "lWsmUtqvnSiM",
        "outputId": "ae967802-98ca-4928-b01f-4826372f21a3"
      },
      "source": [
        "def GiveWorkingDay(year, month, day):\n",
        "  from datetime import date\n",
        "  from datetime import timedelta\n",
        "\n",
        "  # day = date(2017,9,30) # Wartości podane na sztywno\n",
        "  day = date(year,month,day)\n",
        "\n",
        "  if day.weekday() == 5:\n",
        "    workingday = day + timedelta(days=2)\n",
        "  elif day.weekday() == 6:\n",
        "    workingday = day + timedelta(days=1)\n",
        "  else:\n",
        "    workingday = day\n",
        "\n",
        "  print('working day for',day,'is',workingday)\n",
        "\n",
        "  return\n",
        "\n",
        "GiveWorkingDay(2021,8,29)\n",
        "GiveWorkingDay(2021,9,29)\n",
        "GiveWorkingDay(2021,10,29)\n",
        "GiveWorkingDay(2021,11,29)\n",
        "GiveWorkingDay(2021,12,29)"
      ],
      "execution_count": null,
      "outputs": [
        {
          "output_type": "stream",
          "text": [
            "working day for 2021-08-29 is 2021-08-30\n",
            "working day for 2021-09-29 is 2021-09-29\n",
            "working day for 2021-10-29 is 2021-10-29\n",
            "working day for 2021-11-29 is 2021-11-29\n",
            "working day for 2021-12-29 is 2021-12-29\n"
          ],
          "name": "stdout"
        }
      ]
    },
    {
      "cell_type": "code",
      "metadata": {
        "colab": {
          "base_uri": "https://localhost:8080/"
        },
        "id": "iy3pTOYspRcQ",
        "outputId": "33675fed-6971-4b56-c234-703779fe96d0"
      },
      "source": [
        "def GiveWorkingDay(year, month, day):\n",
        "  from datetime import date\n",
        "  from datetime import timedelta\n",
        "\n",
        "  # day = date(2017,9,30) # Wartości podane na sztywno\n",
        "  day = date(year,month,day)\n",
        "\n",
        "  if day.weekday() == 5:\n",
        "    workingday = day + timedelta(days=2)\n",
        "  elif day.weekday() == 6:\n",
        "    workingday = day + timedelta(days=1)\n",
        "  else:\n",
        "    workingday = day\n",
        "\n",
        "  print('working day for',day,'is',workingday)\n",
        "\n",
        "  return\n",
        "\n",
        "GiveWorkingDay(year=2021,month=8,day=29)"
      ],
      "execution_count": null,
      "outputs": [
        {
          "output_type": "stream",
          "text": [
            "working day for 2021-08-29 is 2021-08-30\n"
          ],
          "name": "stdout"
        }
      ]
    },
    {
      "cell_type": "code",
      "metadata": {
        "colab": {
          "base_uri": "https://localhost:8080/"
        },
        "id": "rGihLFieqJo0",
        "outputId": "2ef828c1-dabd-45a2-a976-adbe4f23d607"
      },
      "source": [
        "def DaysToEndOfYear(year, month, day):\n",
        "    from datetime import date\n",
        " \n",
        "    date_today = date(year,month,day)\n",
        "    date_end_year = date(year, 12, 31)\n",
        "    delta = date_end_year - date_today\n",
        "    print(delta.days)\n",
        " \n",
        "DaysToEndOfYear(2020,12,20)\n",
        "DaysToEndOfYear(2021,12,21)\n",
        "DaysToEndOfYear(year = 2022, month = 12, day = 22)\n",
        "DaysToEndOfYear(day = 23, month =12, year = 2023)"
      ],
      "execution_count": null,
      "outputs": [
        {
          "output_type": "stream",
          "text": [
            "11\n",
            "10\n",
            "9\n",
            "8\n"
          ],
          "name": "stdout"
        }
      ]
    },
    {
      "cell_type": "markdown",
      "metadata": {
        "id": "PpHWSgM3qybZ"
      },
      "source": [
        "Parametry domyślne funkcji:"
      ]
    },
    {
      "cell_type": "code",
      "metadata": {
        "colab": {
          "base_uri": "https://localhost:8080/"
        },
        "id": "_HQxoeujquK8",
        "outputId": "502cf0d8-4958-4058-e676-d492074a5958"
      },
      "source": [
        "def GiveWorkingDay(year, month, day=1):\n",
        "  from datetime import date\n",
        "  from datetime import timedelta\n",
        "\n",
        "  # day = date(2017,9,30) # Wartości podane na sztywno\n",
        "  day = date(year,month,day)\n",
        "\n",
        "  if day.weekday() == 5:\n",
        "    workingday = day + timedelta(days=2)\n",
        "  elif day.weekday() == 6:\n",
        "    workingday = day + timedelta(days=1)\n",
        "  else:\n",
        "    workingday = day\n",
        "\n",
        "  print('working day for',day,'is',workingday)\n",
        "\n",
        "  return\n",
        "\n",
        "GiveWorkingDay(year=2021,month=9)"
      ],
      "execution_count": null,
      "outputs": [
        {
          "output_type": "stream",
          "text": [
            "working day for 2021-09-01 is 2021-09-01\n"
          ],
          "name": "stdout"
        }
      ]
    },
    {
      "cell_type": "code",
      "metadata": {
        "colab": {
          "base_uri": "https://localhost:8080/"
        },
        "id": "0OEN1or5sBUQ",
        "outputId": "57be8e6f-af43-460e-f094-941c77d44b14"
      },
      "source": [
        "from datetime import date\n",
        "from datetime import timedelta\n",
        "\n",
        "def GiveWorkingDay(year=date.today().year,\\\n",
        "                   month=date.today().month,\\\n",
        "                   day=date.today().day):\n",
        "\n",
        "  # day = date(2017,9,30) # Wartości podane na sztywno\n",
        "  day = date(year,month,day)\n",
        "\n",
        "  if day.weekday() == 5:\n",
        "    workingday = day + timedelta(days=2)\n",
        "  elif day.weekday() == 6:\n",
        "    workingday = day + timedelta(days=1)\n",
        "  else:\n",
        "    workingday = day\n",
        "\n",
        "  print('working day for',day,'is',workingday)\n",
        "\n",
        "  return\n",
        "\n",
        "GiveWorkingDay()"
      ],
      "execution_count": null,
      "outputs": [
        {
          "output_type": "stream",
          "text": [
            "working day for 2021-08-29 is 2021-08-30\n"
          ],
          "name": "stdout"
        }
      ]
    },
    {
      "cell_type": "code",
      "metadata": {
        "colab": {
          "base_uri": "https://localhost:8080/"
        },
        "id": "Q3nHsybjtCg5",
        "outputId": "6dd73f94-e47d-4d9e-d9a9-4ed15c68f276"
      },
      "source": [
        "from datetime import date\n",
        " \n",
        "def DaysToEndOfYear(year = date.today().year,\n",
        "                    month = date.today().month,\n",
        "                    day = date.today().day):\n",
        "    \n",
        "    date_today = date(year,month,day)\n",
        "    date_end_year = date(year, 12, 31)\n",
        "    delta = date_end_year - date_today\n",
        "    print('Counting from ', date_today,'days remaining', delta.days)\n",
        " \n",
        "DaysToEndOfYear(2020,12,20)\n",
        "DaysToEndOfYear(day = 23, month =12, year = 2023)\n",
        "DaysToEndOfYear()\n",
        "DaysToEndOfYear(year=2020)\n",
        "DaysToEndOfYear(year=2020, month=10)\n",
        "DaysToEndOfYear(day=1)"
      ],
      "execution_count": null,
      "outputs": [
        {
          "output_type": "stream",
          "text": [
            "Counting from  2020-12-20 days remaining 11\n",
            "Counting from  2023-12-23 days remaining 8\n",
            "Counting from  2021-08-29 days remaining 124\n",
            "Counting from  2020-08-29 days remaining 124\n",
            "Counting from  2020-10-29 days remaining 63\n",
            "Counting from  2021-08-01 days remaining 152\n"
          ],
          "name": "stdout"
        }
      ]
    },
    {
      "cell_type": "markdown",
      "metadata": {
        "id": "L6GpYlawqx7e"
      },
      "source": [
        "Zwracanie wartości funkcji:"
      ]
    },
    {
      "cell_type": "code",
      "metadata": {
        "colab": {
          "base_uri": "https://localhost:8080/"
        },
        "id": "u90MDFP7t56x",
        "outputId": "f721b734-3e44-46e9-f9be-f246825281ab"
      },
      "source": [
        "from datetime import date\n",
        "from datetime import timedelta\n",
        "\n",
        "def GiveWorkingDay(year=date.today().year,\\\n",
        "                   month=date.today().month,\\\n",
        "                   day=date.today().day):\n",
        "\n",
        "  day = date(year,month,day)\n",
        "\n",
        "  if day.weekday() == 5:\n",
        "    workingday = day + timedelta(days=2)\n",
        "  elif day.weekday() == 6:\n",
        "    workingday = day + timedelta(days=1)\n",
        "  else:\n",
        "    workingday = day\n",
        "\n",
        "  return workingday\n",
        "\n",
        "nextworkingday = GiveWorkingDay(2017,9,2)\n",
        "print('Next working day after', 2017,9,2,'is',nextworkingday)\n",
        "nextworkingday = GiveWorkingDay()\n",
        "print('Next working day after',nextworkingday)"
      ],
      "execution_count": null,
      "outputs": [
        {
          "output_type": "stream",
          "text": [
            "Next working day after 2017 9 2 is 2017-09-04\n",
            "Next working day after 2021-08-30\n"
          ],
          "name": "stdout"
        }
      ]
    },
    {
      "cell_type": "code",
      "metadata": {
        "colab": {
          "base_uri": "https://localhost:8080/"
        },
        "id": "DmM6Sl5evimT",
        "outputId": "7f921cc7-7f64-4a3b-8e22-7555a1e4bd4f"
      },
      "source": [
        "from datetime import date\n",
        " \n",
        "def DaysToEndOfYear(year = date.today().year,\n",
        "                    month = date.today().month,\n",
        "                    day = date.today().day):\n",
        "    \n",
        "    date_today = date(year,month,day)\n",
        "    date_end_year = date(year, 12, 31)\n",
        "    delta = date_end_year - date_today\n",
        "    return delta.days\n",
        " \n",
        "print('Date: 2020-12-20 days to end of year: %d' %( DaysToEndOfYear(2020,12,20)))\n",
        " \n",
        "print('Date: 2020-12-21 days to end of year: %d' %( DaysToEndOfYear(2020,12,21)))\n",
        " \n",
        "print('Date: TODAY days to end of year: %d' %( DaysToEndOfYear()))"
      ],
      "execution_count": null,
      "outputs": [
        {
          "output_type": "stream",
          "text": [
            "Date: 2020-12-20 days to end of year: 11\n",
            "Date: 2020-12-21 days to end of year: 10\n",
            "Date: TODAY days to end of year: 124\n"
          ],
          "name": "stdout"
        }
      ]
    },
    {
      "cell_type": "markdown",
      "metadata": {
        "id": "aRRux1prwLuh"
      },
      "source": [
        "Przekazywanie zmiennej ilości parametrów do funkcji"
      ]
    },
    {
      "cell_type": "code",
      "metadata": {
        "colab": {
          "base_uri": "https://localhost:8080/"
        },
        "id": "h_AMFWCUwGUg",
        "outputId": "4290499c-a4ec-4fca-9033-3fe42a8d89cf"
      },
      "source": [
        "def DoAction(action, parameter):\n",
        "  print('action:', action)\n",
        "  print('parameter:', parameter)\n",
        "  return\n",
        "\n",
        "DoAction('buy','shoes')"
      ],
      "execution_count": null,
      "outputs": [
        {
          "output_type": "stream",
          "text": [
            "action: buy\n",
            "parameter: shoes\n"
          ],
          "name": "stdout"
        }
      ]
    },
    {
      "cell_type": "code",
      "metadata": {
        "colab": {
          "base_uri": "https://localhost:8080/"
        },
        "id": "SDNRSbfK4UW7",
        "outputId": "aec8c11a-0c34-4bdf-8d76-9ab40e59cbbb"
      },
      "source": [
        "def DoAction2(action, *parameter):\n",
        "  print('action:', action)\n",
        "  print('parameter:', parameter)\n",
        "  return\n",
        "\n",
        "DoAction2('buy','shoes','socks','palm')"
      ],
      "execution_count": null,
      "outputs": [
        {
          "output_type": "stream",
          "text": [
            "action: buy\n",
            "parameter: ('shoes', 'socks', 'palm')\n"
          ],
          "name": "stdout"
        }
      ]
    },
    {
      "cell_type": "code",
      "metadata": {
        "colab": {
          "base_uri": "https://localhost:8080/"
        },
        "id": "pEOfoEDK45Xz",
        "outputId": "42522331-fdae-49ae-e347-ae46138453dd"
      },
      "source": [
        "def DoAction3(action, what, **parameter):\n",
        "  print('action:', action)\n",
        "  print('what:', what)\n",
        "  print('parameter:', parameter)\n",
        "  return\n",
        "\n",
        "DoAction3('buy','shoes',size=45,color='black',type='sport')"
      ],
      "execution_count": null,
      "outputs": [
        {
          "output_type": "stream",
          "text": [
            "action: buy\n",
            "what: shoes\n",
            "parameter: {'size': 45, 'color': 'black', 'type': 'sport'}\n"
          ],
          "name": "stdout"
        }
      ]
    },
    {
      "cell_type": "code",
      "metadata": {
        "colab": {
          "base_uri": "https://localhost:8080/"
        },
        "id": "Ek3J96Cn6ETO",
        "outputId": "33c814ab-8084-450a-fc88-ecd80eff9943"
      },
      "source": [
        "def DoAction2(action, *parameter):\n",
        "  print('action:', action)\n",
        "  print('parameter:', parameter)\n",
        "  for element in parameter:\n",
        "    print('element is', element)\n",
        "  return\n",
        "\n",
        "DoAction2('buy','shoes','socks','palm')"
      ],
      "execution_count": null,
      "outputs": [
        {
          "output_type": "stream",
          "text": [
            "action: buy\n",
            "parameter: ('shoes', 'socks', 'palm')\n",
            "element is shoes\n",
            "element is socks\n",
            "element is palm\n"
          ],
          "name": "stdout"
        }
      ]
    },
    {
      "cell_type": "code",
      "metadata": {
        "colab": {
          "base_uri": "https://localhost:8080/"
        },
        "id": "TRdVZSP06sLj",
        "outputId": "7ffe74c2-9a9a-4678-d880-e1de1aec7281"
      },
      "source": [
        "def DoAction3(action, what, **parameter):\n",
        "  print('action:', action)\n",
        "  print('what:', what)\n",
        "  print('parameter:', parameter)\n",
        "  for element in parameter:\n",
        "    print(element,'is',parameter[element])\n",
        "  return\n",
        "\n",
        "DoAction3('buy','shoes',size=45,color='black',type='sport')"
      ],
      "execution_count": null,
      "outputs": [
        {
          "output_type": "stream",
          "text": [
            "action: buy\n",
            "what: shoes\n",
            "parameter: {'size': 45, 'color': 'black', 'type': 'sport'}\n",
            "size is 45\n",
            "color is black\n",
            "type is sport\n"
          ],
          "name": "stdout"
        }
      ]
    },
    {
      "cell_type": "code",
      "metadata": {
        "id": "T3U3_2VbAr3k"
      },
      "source": [
        "from datetime import date\n",
        " \n",
        "def DaysToEndOfYear(*dates):\n",
        " \n",
        "    for date_today in dates:\n",
        "        \n",
        "        date_end_year = date(date_today.year, 12, 31)\n",
        "        delta = date_end_year - date_today\n",
        "        print('Date', date_today, 'days to end of year', delta.days)\n",
        " \n",
        "DaysToEndOfYear(date(1999,1,15))\n",
        "print('----------------')\n",
        "DaysToEndOfYear(date(1999,1,15),date(2009,1,15))\n",
        "print('----------------')\n",
        "DaysToEndOfYear(date(1999,1,15),date(2009,1,15),date(2019,1,15))\n",
        "print('----------------')\n",
        "DaysToEndOfYear(date(1999,1,15),date(2009,1,15),date(2019,1,15),date.today())"
      ],
      "execution_count": null,
      "outputs": []
    },
    {
      "cell_type": "markdown",
      "metadata": {
        "id": "N_yQxk_yC_V4"
      },
      "source": [
        "Funkcje - własna imlementacja SWITCH"
      ]
    },
    {
      "cell_type": "code",
      "metadata": {
        "colab": {
          "base_uri": "https://localhost:8080/"
        },
        "id": "10nJJemdDIIO",
        "outputId": "918edfbe-ce34-44dc-d96a-7963b587a8b8"
      },
      "source": [
        "def GiveGeomSeqElement(a1=2,factor=2,index=2):\n",
        "    #returns n-th term of geometric sequence starting with element a1 and having \n",
        "    value = a1*pow(factor,index-1)\n",
        "    return value\n",
        "print('element 64 =',GiveGeomSeqElement(1,2,64))"
      ],
      "execution_count": null,
      "outputs": [
        {
          "output_type": "stream",
          "text": [
            "element 64 = 9223372036854775808\n"
          ],
          "name": "stdout"
        }
      ]
    },
    {
      "cell_type": "code",
      "metadata": {
        "colab": {
          "base_uri": "https://localhost:8080/"
        },
        "id": "Jl86pCZNEFUf",
        "outputId": "962bc2f6-13b1-4204-e588-561424ab373f"
      },
      "source": [
        "a1=3\n",
        "factor=2\n",
        "maxindex=10\n",
        "for i in range(1,maxindex):\n",
        "    an = GiveGeomSeqElement(a1=a1,factor=factor,index=i)\n",
        "    print('Term ',i,'=',an)"
      ],
      "execution_count": null,
      "outputs": [
        {
          "output_type": "stream",
          "text": [
            "Term  1 = 3\n",
            "Term  2 = 6\n",
            "Term  3 = 12\n",
            "Term  4 = 24\n",
            "Term  5 = 48\n",
            "Term  6 = 96\n",
            "Term  7 = 192\n",
            "Term  8 = 384\n",
            "Term  9 = 768\n"
          ],
          "name": "stdout"
        }
      ]
    },
    {
      "cell_type": "code",
      "metadata": {
        "colab": {
          "base_uri": "https://localhost:8080/"
        },
        "id": "ixt-w7kFEM8G",
        "outputId": "6cf8785c-e619-4e67-c96b-43885df1dbb6"
      },
      "source": [
        "def GiveFactorForGeomSeq(term, nextterm):\n",
        "    #returns factor for geometrical sequence having two following terms of the sequence\n",
        "    return nextterm/term\n",
        "print('Factor is', GiveFactorForGeomSeq(12,24))"
      ],
      "execution_count": null,
      "outputs": [
        {
          "output_type": "stream",
          "text": [
            "Factor is 2.0\n"
          ],
          "name": "stdout"
        }
      ]
    },
    {
      "cell_type": "code",
      "metadata": {
        "colab": {
          "base_uri": "https://localhost:8080/"
        },
        "id": "I34sL-1zEQ7H",
        "outputId": "d6707816-0420-4e87-9b99-d0e02b636856"
      },
      "source": [
        "def GiveSumOfNElementsGeomSeq(a1=2, factor=2, n=2):\n",
        "    #returns sum of n first elements of geometrical sequence with first term a1 and factor\n",
        "    sumN = a1*(1-pow(factor,n))/(1-factor)\n",
        "    return sumN\n",
        "print('Sum of n elements is', GiveSumOfNElementsGeomSeq(2,3,4))"
      ],
      "execution_count": null,
      "outputs": [
        {
          "output_type": "stream",
          "text": [
            "Sum of n elements is 80.0\n"
          ],
          "name": "stdout"
        }
      ]
    }
  ]
}