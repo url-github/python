{
  "nbformat": 4,
  "nbformat_minor": 0,
  "metadata": {
    "colab": {
      "name": "3.Python [Typy - informacje zaawansowane].ipynb",
      "provenance": [],
      "authorship_tag": "ABX9TyOrW9Wx4fCE/cUIk+UGk300"
    },
    "kernelspec": {
      "name": "python3",
      "display_name": "Python 3"
    },
    "language_info": {
      "name": "python"
    }
  },
  "cells": [
    {
      "cell_type": "code",
      "metadata": {
        "colab": {
          "base_uri": "https://localhost:8080/"
        },
        "id": "inslqZoXAJ3-",
        "outputId": "22ff7a3c-aa9e-4b1d-afdd-5299ccb20f67"
      },
      "source": [
        "percent = [2.606255012,1.222935044,1.283079391,3.628708901,6.856455493,4.911788292,\n",
        "           2.886928629,0.781876504,0.962309543,2.265437049,6.816359262,3.688853248,\n",
        "           3.468323978,5.633520449,4.530874098,1.984763432,0.922213312,3.327987169,\n",
        "           4.190056135,5.493183641,1.864474739,10.60545309,2.425821973,2.726543705,\n",
        "           8.740978348,6.174819567]\n",
        " \n",
        "countries = ['Ukraine', 'Spain', 'Slovenia', 'Lithuania', 'Austria', 'Estonia',\n",
        "             'Norway', 'Portugal','United Kingdom','Serbia','Germany','Albania',\n",
        "             'France','Czech Republic','Denmark','Australia','Finland','Bulgaria',\n",
        "             'Moldova','Sweden','Hungary','Israel','Netherlands','Ireland',\n",
        "             'Cyprus','Italy']\n",
        "\n",
        "sumOfPoints = 4988\n",
        "print('min', min(percent), 'max', max(percent))\n",
        " \n",
        "for i in range(len(countries)):\n",
        " \n",
        "    print(percent[i], int(percent[i]), round(percent[i],2), int(round(percent[i]*sumOfPoints/100,0)), countries[i])"
      ],
      "execution_count": null,
      "outputs": [
        {
          "output_type": "stream",
          "text": [
            "min 0.781876504 max 10.60545309\n",
            "2.606255012 2 2.61 130 Ukraine\n",
            "1.222935044 1 1.22 61 Spain\n",
            "1.283079391 1 1.28 64 Slovenia\n",
            "3.628708901 3 3.63 181 Lithuania\n",
            "6.856455493 6 6.86 342 Austria\n",
            "4.911788292 4 4.91 245 Estonia\n",
            "2.886928629 2 2.89 144 Norway\n",
            "0.781876504 0 0.78 39 Portugal\n",
            "0.962309543 0 0.96 48 United Kingdom\n",
            "2.265437049 2 2.27 113 Serbia\n",
            "6.816359262 6 6.82 340 Germany\n",
            "3.688853248 3 3.69 184 Albania\n",
            "3.468323978 3 3.47 173 France\n",
            "5.633520449 5 5.63 281 Czech Republic\n",
            "4.530874098 4 4.53 226 Denmark\n",
            "1.984763432 1 1.98 99 Australia\n",
            "0.922213312 0 0.92 46 Finland\n",
            "3.327987169 3 3.33 166 Bulgaria\n",
            "4.190056135 4 4.19 209 Moldova\n",
            "5.493183641 5 5.49 274 Sweden\n",
            "1.864474739 1 1.86 93 Hungary\n",
            "10.60545309 10 10.61 529 Israel\n",
            "2.425821973 2 2.43 121 Netherlands\n",
            "2.726543705 2 2.73 136 Ireland\n",
            "8.740978348 8 8.74 436 Cyprus\n",
            "6.174819567 6 6.17 308 Italy\n"
          ],
          "name": "stdout"
        }
      ]
    },
    {
      "cell_type": "code",
      "metadata": {
        "colab": {
          "base_uri": "https://localhost:8080/"
        },
        "id": "v4y2YM8iEiAZ",
        "outputId": "8c17b215-e966-4975-f331-90070b690e7c"
      },
      "source": [
        "import math\n",
        "math.pi"
      ],
      "execution_count": null,
      "outputs": [
        {
          "output_type": "execute_result",
          "data": {
            "text/plain": [
              "3.141592653589793"
            ]
          },
          "metadata": {},
          "execution_count": 3
        }
      ]
    },
    {
      "cell_type": "code",
      "metadata": {
        "colab": {
          "base_uri": "https://localhost:8080/"
        },
        "id": "IW2qq04pFHqd",
        "outputId": "96f9c9b1-0a7e-4d18-d216-5e1bfd6c5071"
      },
      "source": [
        "from math import *\n",
        "pi"
      ],
      "execution_count": null,
      "outputs": [
        {
          "output_type": "execute_result",
          "data": {
            "text/plain": [
              "3.141592653589793"
            ]
          },
          "metadata": {},
          "execution_count": 4
        }
      ]
    },
    {
      "cell_type": "code",
      "metadata": {
        "colab": {
          "base_uri": "https://localhost:8080/"
        },
        "id": "5BqUfPDrFOeY",
        "outputId": "3f2102b9-4e8c-49bb-d75d-2667c99c3dd8"
      },
      "source": [
        "floor(pi)"
      ],
      "execution_count": null,
      "outputs": [
        {
          "output_type": "execute_result",
          "data": {
            "text/plain": [
              "3"
            ]
          },
          "metadata": {},
          "execution_count": 5
        }
      ]
    },
    {
      "cell_type": "code",
      "metadata": {
        "colab": {
          "base_uri": "https://localhost:8080/"
        },
        "id": "eiTFbOF8FTFj",
        "outputId": "ca2c1c24-1fc7-41bf-bcb7-46227ef30244"
      },
      "source": [
        "percent = [2.606255012,1.222935044,1.283079391,3.628708901,6.856455493,4.911788292,\n",
        "           2.886928629,0.781876504,0.962309543,2.265437049,6.816359262,3.688853248,\n",
        "           3.468323978,5.633520449,4.530874098,1.984763432,0.922213312,3.327987169,\n",
        "           4.190056135,5.493183641,1.864474739,10.60545309,2.425821973,2.726543705,\n",
        "           8.740978348,6.174819567]\n",
        " \n",
        "percent.sort()\n",
        "print(percent)"
      ],
      "execution_count": null,
      "outputs": [
        {
          "output_type": "stream",
          "text": [
            "[0.781876504, 0.922213312, 0.962309543, 1.222935044, 1.283079391, 1.864474739, 1.984763432, 2.265437049, 2.425821973, 2.606255012, 2.726543705, 2.886928629, 3.327987169, 3.468323978, 3.628708901, 3.688853248, 4.190056135, 4.530874098, 4.911788292, 5.493183641, 5.633520449, 6.174819567, 6.816359262, 6.856455493, 8.740978348, 10.60545309]\n"
          ],
          "name": "stdout"
        }
      ]
    },
    {
      "cell_type": "code",
      "metadata": {
        "colab": {
          "base_uri": "https://localhost:8080/"
        },
        "id": "Rk_So3WGGLD4",
        "outputId": "11ebd090-4094-4c1d-bd5a-0a8b201b0784"
      },
      "source": [
        "import statistics\n",
        " \n",
        "print(statistics.median(percent))\n",
        "print(statistics.median_low(percent))\n",
        "print(statistics.median_high(percent))"
      ],
      "execution_count": null,
      "outputs": [
        {
          "output_type": "stream",
          "text": [
            "3.3981555735\n",
            "3.327987169\n",
            "3.468323978\n"
          ],
          "name": "stdout"
        }
      ]
    },
    {
      "cell_type": "code",
      "metadata": {
        "colab": {
          "base_uri": "https://localhost:8080/"
        },
        "id": "y1C5iW41GRiY",
        "outputId": "e44eb6e4-0ca2-48cc-b3ef-dcaac618ee66"
      },
      "source": [
        "from statistics import *\n",
        " \n",
        "print(median(percent))\n",
        "print(median_low(percent))\n",
        "print(median_high(percent))"
      ],
      "execution_count": null,
      "outputs": [
        {
          "output_type": "stream",
          "text": [
            "3.3981555735\n",
            "3.327987169\n",
            "3.468323978\n"
          ],
          "name": "stdout"
        }
      ]
    },
    {
      "cell_type": "markdown",
      "metadata": {
        "id": "HaOhzylVGXsi"
      },
      "source": [
        "Moduł math"
      ]
    },
    {
      "cell_type": "code",
      "metadata": {
        "colab": {
          "base_uri": "https://localhost:8080/"
        },
        "id": "IIomVIRGGVKw",
        "outputId": "1727086d-e36b-4da1-cb91-59dc168a6e4f"
      },
      "source": [
        "import math\n",
        " \n",
        "degree = 360\n",
        "radian = degree * math.pi / 180\n",
        "print(\"%d degree is %f radians\" % (degree, radian))"
      ],
      "execution_count": null,
      "outputs": [
        {
          "output_type": "stream",
          "text": [
            "360 degree is 6.283185 radians\n"
          ],
          "name": "stdout"
        }
      ]
    },
    {
      "cell_type": "markdown",
      "metadata": {
        "id": "GwkaYYQBIwYQ"
      },
      "source": [
        "Moduł random"
      ]
    },
    {
      "cell_type": "code",
      "metadata": {
        "colab": {
          "base_uri": "https://localhost:8080/"
        },
        "id": "FZksN8HVIVVz",
        "outputId": "50c924f7-dd89-4660-d090-944ee0fef9f7"
      },
      "source": [
        "import random\n",
        " \n",
        "for i in range(10):\n",
        "    print(random.randint(1,100))"
      ],
      "execution_count": null,
      "outputs": [
        {
          "output_type": "stream",
          "text": [
            "79\n",
            "42\n",
            "65\n",
            "59\n",
            "70\n",
            "38\n",
            "24\n",
            "21\n",
            "82\n",
            "13\n"
          ],
          "name": "stdout"
        }
      ]
    },
    {
      "cell_type": "code",
      "metadata": {
        "colab": {
          "base_uri": "https://localhost:8080/"
        },
        "id": "IF8Jj9a7Jl3T",
        "outputId": "088e0ed9-59e0-4682-8151-088519d1e55f"
      },
      "source": [
        "number1 = random.randint(1,100)\n",
        "print(\"The first generated number is %d\" %(number1))"
      ],
      "execution_count": null,
      "outputs": [
        {
          "output_type": "stream",
          "text": [
            "The first generated number is 21\n"
          ],
          "name": "stdout"
        }
      ]
    },
    {
      "cell_type": "code",
      "metadata": {
        "colab": {
          "base_uri": "https://localhost:8080/"
        },
        "id": "-D-6OAr9JyL4",
        "outputId": "f019ec3a-1f79-4ce0-8068-470adc063546"
      },
      "source": [
        "counter = 1\n",
        "number2 = random.randint(1,100)\n",
        " \n",
        "while number1 != number2:\n",
        "    counter+=1\n",
        "    number2=random.randint(1,100)\n",
        "    print(counter, number2)"
      ],
      "execution_count": null,
      "outputs": [
        {
          "output_type": "stream",
          "text": [
            "2 13\n",
            "3 25\n",
            "4 9\n",
            "5 86\n",
            "6 89\n",
            "7 33\n",
            "8 88\n",
            "9 21\n"
          ],
          "name": "stdout"
        }
      ]
    },
    {
      "cell_type": "code",
      "metadata": {
        "colab": {
          "base_uri": "https://localhost:8080/"
        },
        "id": "1Fv5g3iyKfX0",
        "outputId": "15a92225-cdc3-4ea8-db77-561a97563013"
      },
      "source": [
        "countries = [\n",
        "    'Uruguay',\n",
        "    'Russia',\n",
        "    'Saudi Arabia',\n",
        "    'Egypt',\n",
        "    'Spain',\n",
        "    'Portugal',\n",
        "    'Iran',\n",
        "    'Morocco',\n",
        "    'France',\n",
        "    'Denmark',\n",
        "    'Peru',\n",
        "    'Australia',\n",
        "    'Croatia',\n",
        "    'Argentina',\n",
        "    'Nigeria',\n",
        "    'Iceland',\n",
        "    'Brazil',\n",
        "    'Switzerland',\n",
        "    'Serbia',\n",
        "    'Costa Rica',\n",
        "    'Sweden',\n",
        "    'Mexico',\n",
        "    'Korea Republic',\n",
        "    'Germany',\n",
        "    'Belgium',\n",
        "    'England',\n",
        "    'Tunisia',\n",
        "    'Panama',\n",
        "    'Colombia',\n",
        "    'Japan',\n",
        "    'Senegal',\n",
        "    'Poland'\n",
        "    ]\n",
        " \n",
        "random.shuffle(countries)\n",
        " \n",
        "groupNumber = 0\n",
        " \n",
        "for i in range(len(countries)):\n",
        "    if i % 4 == 0:\n",
        "        groupNumber += 1\n",
        "        print(\"========== Group %d ==========\" % (groupNumber))\n",
        "    print(countries[i])"
      ],
      "execution_count": null,
      "outputs": [
        {
          "output_type": "stream",
          "text": [
            "========== Group 1 ==========\n",
            "Mexico\n",
            "Croatia\n",
            "Egypt\n",
            "Senegal\n",
            "========== Group 2 ==========\n",
            "Panama\n",
            "England\n",
            "Costa Rica\n",
            "Japan\n",
            "========== Group 3 ==========\n",
            "Iran\n",
            "Russia\n",
            "Tunisia\n",
            "Australia\n",
            "========== Group 4 ==========\n",
            "Uruguay\n",
            "Peru\n",
            "Korea Republic\n",
            "Sweden\n",
            "========== Group 5 ==========\n",
            "Poland\n",
            "Colombia\n",
            "Germany\n",
            "France\n",
            "========== Group 6 ==========\n",
            "Portugal\n",
            "Brazil\n",
            "Spain\n",
            "Belgium\n",
            "========== Group 7 ==========\n",
            "Serbia\n",
            "Iceland\n",
            "Argentina\n",
            "Nigeria\n",
            "========== Group 8 ==========\n",
            "Switzerland\n",
            "Saudi Arabia\n",
            "Denmark\n",
            "Morocco\n"
          ],
          "name": "stdout"
        }
      ]
    },
    {
      "cell_type": "markdown",
      "metadata": {
        "id": "13g3_PZzLSOD"
      },
      "source": [
        "Generowanie hasła:"
      ]
    },
    {
      "cell_type": "code",
      "metadata": {
        "colab": {
          "base_uri": "https://localhost:8080/"
        },
        "id": "y79sZq6sLJDL",
        "outputId": "7ef2673a-00fa-457f-c8bc-1a4965fdd0bb"
      },
      "source": [
        "for i in range(110,127):\n",
        "  print(i, chr(i))"
      ],
      "execution_count": null,
      "outputs": [
        {
          "output_type": "stream",
          "text": [
            "110 n\n",
            "111 o\n",
            "112 p\n",
            "113 q\n",
            "114 r\n",
            "115 s\n",
            "116 t\n",
            "117 u\n",
            "118 v\n",
            "119 w\n",
            "120 x\n",
            "121 y\n",
            "122 z\n",
            "123 {\n",
            "124 |\n",
            "125 }\n",
            "126 ~\n"
          ],
          "name": "stdout"
        }
      ]
    },
    {
      "cell_type": "code",
      "metadata": {
        "colab": {
          "base_uri": "https://localhost:8080/"
        },
        "id": "JwsR51G-Skfh",
        "outputId": "46c39c98-9258-46f7-b79d-4c10723461c3"
      },
      "source": [
        "import random\n",
        "\n",
        "ints = range(33,127)\n",
        "password = ''\n",
        "\n",
        "for i in range(16):\n",
        "  password += chr(random.choice(ints))\n",
        "\n",
        "print('Password is:',password)"
      ],
      "execution_count": null,
      "outputs": [
        {
          "output_type": "stream",
          "text": [
            "Password is: \"&A%g5SaFdYFbpM%\n"
          ],
          "name": "stdout"
        }
      ]
    },
    {
      "cell_type": "markdown",
      "metadata": {
        "id": "UhNVOPg2VxYK"
      },
      "source": [
        "Funkcje tekstowe:"
      ]
    },
    {
      "cell_type": "code",
      "metadata": {
        "id": "HKP3U03tU9-0"
      },
      "source": [
        "line = 'this IS a very STRANGE test'"
      ],
      "execution_count": null,
      "outputs": []
    },
    {
      "cell_type": "code",
      "metadata": {
        "colab": {
          "base_uri": "https://localhost:8080/",
          "height": 35
        },
        "id": "2BQ1FhX9XHak",
        "outputId": "349b36cc-0e4a-4439-b0e5-b831345305bb"
      },
      "source": [
        "line.capitalize()"
      ],
      "execution_count": null,
      "outputs": [
        {
          "output_type": "execute_result",
          "data": {
            "application/vnd.google.colaboratory.intrinsic+json": {
              "type": "string"
            },
            "text/plain": [
              "'This is a very strange test'"
            ]
          },
          "metadata": {},
          "execution_count": 25
        }
      ]
    },
    {
      "cell_type": "code",
      "metadata": {
        "colab": {
          "base_uri": "https://localhost:8080/",
          "height": 35
        },
        "id": "WHujT-myXKKU",
        "outputId": "e2766bbd-fe04-43b5-a014-80f2d3cb0d64"
      },
      "source": [
        "line.title()"
      ],
      "execution_count": null,
      "outputs": [
        {
          "output_type": "execute_result",
          "data": {
            "application/vnd.google.colaboratory.intrinsic+json": {
              "type": "string"
            },
            "text/plain": [
              "'This Is A Very Strange Test'"
            ]
          },
          "metadata": {},
          "execution_count": 27
        }
      ]
    },
    {
      "cell_type": "code",
      "metadata": {
        "colab": {
          "base_uri": "https://localhost:8080/",
          "height": 35
        },
        "id": "X1y8xL8rXMIo",
        "outputId": "b895002b-ba91-4471-8ab2-a8bcd44a45ed"
      },
      "source": [
        "line.upper()"
      ],
      "execution_count": null,
      "outputs": [
        {
          "output_type": "execute_result",
          "data": {
            "application/vnd.google.colaboratory.intrinsic+json": {
              "type": "string"
            },
            "text/plain": [
              "'THIS IS A VERY STRANGE TEST'"
            ]
          },
          "metadata": {},
          "execution_count": 28
        }
      ]
    },
    {
      "cell_type": "code",
      "metadata": {
        "colab": {
          "base_uri": "https://localhost:8080/",
          "height": 35
        },
        "id": "8DWuyOQ6XeE8",
        "outputId": "321e57bb-b34e-4dcf-a531-11933828a5ee"
      },
      "source": [
        "line.lower()"
      ],
      "execution_count": null,
      "outputs": [
        {
          "output_type": "execute_result",
          "data": {
            "application/vnd.google.colaboratory.intrinsic+json": {
              "type": "string"
            },
            "text/plain": [
              "'this is a very strange test'"
            ]
          },
          "metadata": {},
          "execution_count": 29
        }
      ]
    },
    {
      "cell_type": "code",
      "metadata": {
        "colab": {
          "base_uri": "https://localhost:8080/"
        },
        "id": "b1uY1nESX2_L",
        "outputId": "aa522943-5482-41c7-d160-ddb97e57c0c3"
      },
      "source": [
        "line.count('e')"
      ],
      "execution_count": null,
      "outputs": [
        {
          "output_type": "execute_result",
          "data": {
            "text/plain": [
              "2"
            ]
          },
          "metadata": {},
          "execution_count": 31
        }
      ]
    },
    {
      "cell_type": "code",
      "metadata": {
        "colab": {
          "base_uri": "https://localhost:8080/"
        },
        "id": "etYp9opfYZzL",
        "outputId": "33eddb76-839e-4513-8d48-6d08b28c0af9"
      },
      "source": [
        "line.find('e')"
      ],
      "execution_count": null,
      "outputs": [
        {
          "output_type": "execute_result",
          "data": {
            "text/plain": [
              "11"
            ]
          },
          "metadata": {},
          "execution_count": 32
        }
      ]
    },
    {
      "cell_type": "code",
      "metadata": {
        "colab": {
          "base_uri": "https://localhost:8080/"
        },
        "id": "ahP_zyYeYdYP",
        "outputId": "15707a99-4017-4172-b6b7-d9109482838f"
      },
      "source": [
        "line.rfind('e')"
      ],
      "execution_count": null,
      "outputs": [
        {
          "output_type": "execute_result",
          "data": {
            "text/plain": [
              "24"
            ]
          },
          "metadata": {},
          "execution_count": 33
        }
      ]
    },
    {
      "cell_type": "code",
      "metadata": {
        "colab": {
          "base_uri": "https://localhost:8080/"
        },
        "id": "N8dUvhzFYjIA",
        "outputId": "5672e47b-c7fc-406f-9dce-a8bc7edbe80d"
      },
      "source": [
        "line.index('e')"
      ],
      "execution_count": null,
      "outputs": [
        {
          "output_type": "execute_result",
          "data": {
            "text/plain": [
              "11"
            ]
          },
          "metadata": {},
          "execution_count": 34
        }
      ]
    },
    {
      "cell_type": "code",
      "metadata": {
        "colab": {
          "base_uri": "https://localhost:8080/"
        },
        "id": "PsjygoU6YsYv",
        "outputId": "369f18b0-f41d-4835-cc34-0ad7581e7aa8"
      },
      "source": [
        "line.find('p')"
      ],
      "execution_count": null,
      "outputs": [
        {
          "output_type": "execute_result",
          "data": {
            "text/plain": [
              "-1"
            ]
          },
          "metadata": {},
          "execution_count": 35
        }
      ]
    },
    {
      "cell_type": "code",
      "metadata": {
        "colab": {
          "base_uri": "https://localhost:8080/"
        },
        "id": "NGUGYRPjYyCw",
        "outputId": "2029fbd3-9475-4ab7-8ed8-e0f3b40f921e"
      },
      "source": [
        "'e' in line"
      ],
      "execution_count": null,
      "outputs": [
        {
          "output_type": "execute_result",
          "data": {
            "text/plain": [
              "True"
            ]
          },
          "metadata": {},
          "execution_count": 36
        }
      ]
    },
    {
      "cell_type": "code",
      "metadata": {
        "colab": {
          "base_uri": "https://localhost:8080/"
        },
        "id": "ivRgJDerY5OP",
        "outputId": "e0a11a17-a31a-4de4-e695-dc95eabd4f99"
      },
      "source": [
        "line.startswith('this')"
      ],
      "execution_count": null,
      "outputs": [
        {
          "output_type": "execute_result",
          "data": {
            "text/plain": [
              "True"
            ]
          },
          "metadata": {},
          "execution_count": 37
        }
      ]
    },
    {
      "cell_type": "code",
      "metadata": {
        "colab": {
          "base_uri": "https://localhost:8080/"
        },
        "id": "TcZrZjRCZCTf",
        "outputId": "11fa75b0-9d90-4dab-928b-10956a8b3395"
      },
      "source": [
        "line.startswith('This')"
      ],
      "execution_count": null,
      "outputs": [
        {
          "output_type": "execute_result",
          "data": {
            "text/plain": [
              "False"
            ]
          },
          "metadata": {},
          "execution_count": 38
        }
      ]
    },
    {
      "cell_type": "code",
      "metadata": {
        "colab": {
          "base_uri": "https://localhost:8080/"
        },
        "id": "uH6LrHSbZD3P",
        "outputId": "c69727e0-6925-47bd-dea9-daaee0bcbc7f"
      },
      "source": [
        "line.endswith('text')"
      ],
      "execution_count": null,
      "outputs": [
        {
          "output_type": "execute_result",
          "data": {
            "text/plain": [
              "False"
            ]
          },
          "metadata": {},
          "execution_count": 39
        }
      ]
    },
    {
      "cell_type": "code",
      "metadata": {
        "colab": {
          "base_uri": "https://localhost:8080/",
          "height": 35
        },
        "id": "oMtr6sxLZKP_",
        "outputId": "ac849f13-a0a9-44a8-8c22-05eb95468560"
      },
      "source": [
        "import string\n",
        "string.ascii_letters"
      ],
      "execution_count": null,
      "outputs": [
        {
          "output_type": "execute_result",
          "data": {
            "application/vnd.google.colaboratory.intrinsic+json": {
              "type": "string"
            },
            "text/plain": [
              "'abcdefghijklmnopqrstuvwxyzABCDEFGHIJKLMNOPQRSTUVWXYZ'"
            ]
          },
          "metadata": {},
          "execution_count": 41
        }
      ]
    },
    {
      "cell_type": "code",
      "metadata": {
        "colab": {
          "base_uri": "https://localhost:8080/",
          "height": 35
        },
        "id": "5xx7DgPTZvbn",
        "outputId": "236ca93e-b49d-460b-9566-a55b9e19325e"
      },
      "source": [
        "string.digits"
      ],
      "execution_count": null,
      "outputs": [
        {
          "output_type": "execute_result",
          "data": {
            "application/vnd.google.colaboratory.intrinsic+json": {
              "type": "string"
            },
            "text/plain": [
              "'0123456789'"
            ]
          },
          "metadata": {},
          "execution_count": 42
        }
      ]
    },
    {
      "cell_type": "code",
      "metadata": {
        "colab": {
          "base_uri": "https://localhost:8080/"
        },
        "id": "C0ze-oH_Z1K0",
        "outputId": "5f50c223-1658-4ba3-e7ce-c66e6b928459"
      },
      "source": [
        "line.split(' ')"
      ],
      "execution_count": null,
      "outputs": [
        {
          "output_type": "execute_result",
          "data": {
            "text/plain": [
              "['this', 'IS', 'a', 'very', 'STRANGE', 'test']"
            ]
          },
          "metadata": {},
          "execution_count": 43
        }
      ]
    },
    {
      "cell_type": "code",
      "metadata": {
        "colab": {
          "base_uri": "https://localhost:8080/"
        },
        "id": "gANhHQXTaGMP",
        "outputId": "52f67739-9c01-4dc6-a92b-8410375d7a4a"
      },
      "source": [
        "list = line.split(' ')\n",
        "list"
      ],
      "execution_count": null,
      "outputs": [
        {
          "output_type": "execute_result",
          "data": {
            "text/plain": [
              "['this', 'IS', 'a', 'very', 'STRANGE', 'test']"
            ]
          },
          "metadata": {},
          "execution_count": 44
        }
      ]
    },
    {
      "cell_type": "code",
      "metadata": {
        "colab": {
          "base_uri": "https://localhost:8080/",
          "height": 35
        },
        "id": "6dVJ69Vnadjc",
        "outputId": "924150ca-5d08-4538-caf3-f6a247c569a6"
      },
      "source": [
        "' '.join(list)"
      ],
      "execution_count": null,
      "outputs": [
        {
          "output_type": "execute_result",
          "data": {
            "application/vnd.google.colaboratory.intrinsic+json": {
              "type": "string"
            },
            "text/plain": [
              "'this IS a very STRANGE test'"
            ]
          },
          "metadata": {},
          "execution_count": 45
        }
      ]
    }
  ]
}